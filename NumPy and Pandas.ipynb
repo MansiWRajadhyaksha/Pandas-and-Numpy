{
 "cells": [
  {
   "cell_type": "markdown",
   "id": "49dbea9b",
   "metadata": {},
   "source": [
    "Numpy"
   ]
  },
  {
   "cell_type": "code",
   "execution_count": 29,
   "id": "04591367",
   "metadata": {},
   "outputs": [],
   "source": [
    "import numpy as np\n",
    "import pandas as pd"
   ]
  },
  {
   "cell_type": "code",
   "execution_count": 3,
   "id": "51bed956",
   "metadata": {},
   "outputs": [
    {
     "name": "stdout",
     "output_type": "stream",
     "text": [
      "[1.5 2.5 3.6 4.2 5.5 6.3 9.6 4.5]\n"
     ]
    }
   ],
   "source": [
    "one_dime_array = np.array([1.5,2.5,3.6,4.2,5.5,6.3,9.6,4.5])\n",
    "print(one_dime_array)"
   ]
  },
  {
   "cell_type": "code",
   "execution_count": 4,
   "id": "429a5c91",
   "metadata": {},
   "outputs": [
    {
     "name": "stdout",
     "output_type": "stream",
     "text": [
      "[[3, 5], [2, 1], [3, 8]]\n"
     ]
    }
   ],
   "source": [
    "two_dime_array = ([[3,5],[2,1],[3,8]])\n",
    "print(two_dime_array)"
   ]
  },
  {
   "cell_type": "code",
   "execution_count": 12,
   "id": "2573e306",
   "metadata": {},
   "outputs": [
    {
     "data": {
      "text/plain": [
       "array([0., 0., 0., 0., 0., 0.])"
      ]
     },
     "execution_count": 12,
     "metadata": {},
     "output_type": "execute_result"
    }
   ],
   "source": [
    "np.zeros(6)"
   ]
  },
  {
   "cell_type": "code",
   "execution_count": 13,
   "id": "64781c99",
   "metadata": {},
   "outputs": [
    {
     "data": {
      "text/plain": [
       "array([1., 1., 1., 1., 1., 1., 1., 1., 1.])"
      ]
     },
     "execution_count": 13,
     "metadata": {},
     "output_type": "execute_result"
    }
   ],
   "source": [
    "np.ones(9)"
   ]
  },
  {
   "cell_type": "code",
   "execution_count": 15,
   "id": "f512d01f",
   "metadata": {},
   "outputs": [
    {
     "data": {
      "text/plain": [
       "array([[0., 0., 0.],\n",
       "       [0., 0., 0.]])"
      ]
     },
     "execution_count": 15,
     "metadata": {},
     "output_type": "execute_result"
    }
   ],
   "source": [
    "np.zeros((2,3))"
   ]
  },
  {
   "cell_type": "code",
   "execution_count": 16,
   "id": "954b05cf",
   "metadata": {},
   "outputs": [
    {
     "data": {
      "text/plain": [
       "array([1, 1, 1, 1, 1, 1, 1])"
      ]
     },
     "execution_count": 16,
     "metadata": {},
     "output_type": "execute_result"
    }
   ],
   "source": [
    "np.ones((7,), dtype = int)"
   ]
  },
  {
   "cell_type": "code",
   "execution_count": 18,
   "id": "91ef1c81",
   "metadata": {},
   "outputs": [
    {
     "name": "stdout",
     "output_type": "stream",
     "text": [
      "[16 17 18 19 20 21 22 23 24]\n"
     ]
    }
   ],
   "source": [
    "sequence_of_integer = np.arange(16,25)\n",
    "print(sequence_of_integer)"
   ]
  },
  {
   "cell_type": "code",
   "execution_count": 21,
   "id": "3964f417",
   "metadata": {},
   "outputs": [
    {
     "name": "stdout",
     "output_type": "stream",
     "text": [
      "[226 224 216 217 226 229 204]\n"
     ]
    }
   ],
   "source": [
    "random_int = np.random.randint(low=200, high=230, size=(7,))\n",
    "print(random_int)"
   ]
  },
  {
   "cell_type": "code",
   "execution_count": 22,
   "id": "684f3a65",
   "metadata": {},
   "outputs": [
    {
     "name": "stdout",
     "output_type": "stream",
     "text": [
      "[0.74219007 0.84530372 0.85092393 0.95647469 0.83169041 0.49793408]\n"
     ]
    }
   ],
   "source": [
    "random_float = np.random.random(6,)\n",
    "print(random_float)"
   ]
  },
  {
   "cell_type": "code",
   "execution_count": 24,
   "id": "6c804b0e",
   "metadata": {},
   "outputs": [
    {
     "data": {
      "text/plain": [
       "array([0.92971706, 0.99409617, 0.93472238, 0.50574874, 0.69882179,\n",
       "       0.5824583 , 0.39347015, 0.42905147, 0.99936441, 0.70428518])"
      ]
     },
     "execution_count": 24,
     "metadata": {},
     "output_type": "execute_result"
    }
   ],
   "source": [
    "rng = np.random.default_rng()\n",
    "rng.random(size=10)"
   ]
  },
  {
   "cell_type": "code",
   "execution_count": 28,
   "id": "79243c30",
   "metadata": {},
   "outputs": [
    {
     "data": {
      "text/plain": [
       "array([3.91950787, 2.79880352, 3.58690794, 1.74584574, 2.12386693,\n",
       "       3.24742794, 1.31381789, 1.68921779, 1.17728839, 2.83218852])"
      ]
     },
     "execution_count": 28,
     "metadata": {},
     "output_type": "execute_result"
    }
   ],
   "source": [
    "rng.uniform(1, 4, size=10)"
   ]
  },
  {
   "cell_type": "markdown",
   "id": "c55a61fb",
   "metadata": {},
   "source": [
    "Task 1: Create a Linear Dataset\n",
    "Your goal is to create a simple dataset consisting of a single feature and a label as follows:\n",
    "\n",
    "Assign a sequence of integers from 6 to 20 (inclusive) to a NumPy array named feature.\n",
    "Assign 15 values to a NumPy array named label such that:\n",
    "   label = (3)(feature) + 4\n",
    "For example, the first value for label should be:\n",
    "\n",
    "  label = (3)(6) + 4 = 22"
   ]
  },
  {
   "cell_type": "code",
   "execution_count": 30,
   "id": "58ee07c7",
   "metadata": {},
   "outputs": [
    {
     "name": "stdout",
     "output_type": "stream",
     "text": [
      "[ 6  7  8  9 10 11 12 13 14 15 16 17 18 19 20]\n",
      "[22 25 28 31 34 37 40 43 46 49 52 55 58 61 64]\n"
     ]
    }
   ],
   "source": [
    "feature = np.arange(6,21) # write your code here\n",
    "print(feature)\n",
    "label = (feature * 3) + 4   # write your code here\n",
    "print(label)"
   ]
  },
  {
   "cell_type": "markdown",
   "id": "3e836eaf",
   "metadata": {},
   "source": [
    "Task 2: Add Some Noise to the Dataset\n",
    "To make your dataset a little more realistic, insert a little random noise into each element of the label array you already created. To be more precise, modify each value assigned to label by adding a different random floating-point value between -2 and +2.\n",
    "\n",
    "Don't rely on broadcasting. Instead, create a noise array having the same dimension as label."
   ]
  },
  {
   "cell_type": "code",
   "execution_count": 31,
   "id": "18409c2f",
   "metadata": {},
   "outputs": [
    {
     "name": "stdout",
     "output_type": "stream",
     "text": [
      "[ 0.0954327  -1.49461726 -0.38078928  1.95632531  1.49542483 -0.7335952\n",
      " -1.65088686  0.73229206 -0.95192484  0.8622042  -1.95865261 -0.39778697\n",
      " -1.75941126  1.40738949 -0.4905878 ]\n",
      "[22.0954327  23.50538274 27.61921072 32.95632531 35.49542483 36.2664048\n",
      " 38.34911314 43.73229206 45.04807516 49.8622042  50.04134739 54.60221303\n",
      " 56.24058874 62.40738949 63.5094122 ]\n"
     ]
    }
   ],
   "source": [
    "noise = (np.random.random([15]) * 4) - 2    # write your code here\n",
    "print(noise)\n",
    "label = label + noise    # write your code here\n",
    "print(label)"
   ]
  },
  {
   "cell_type": "markdown",
   "id": "de7b9986",
   "metadata": {},
   "source": [
    "Pandas"
   ]
  },
  {
   "cell_type": "code",
   "execution_count": 34,
   "id": "b7028723",
   "metadata": {},
   "outputs": [
    {
     "name": "stdout",
     "output_type": "stream",
     "text": [
      "   temperature  activity\n",
      "0           10         4\n",
      "1           20         7\n",
      "2           30         9\n",
      "3           40         8\n",
      "4           35         1\n"
     ]
    }
   ],
   "source": [
    "#create and populate the array\n",
    "my_data = np.array([[10,4],[20,7],[30,9],[40,8],[35,1]])\n",
    "\n",
    "#Python list that holds the name of the two columns\n",
    "my_column_names = ['temperature','activity']\n",
    "\n",
    "#create a dataframe\n",
    "my_dataframe = pd.DataFrame(data=my_data, columns= my_column_names)\n",
    "\n",
    "print(my_dataframe)"
   ]
  },
  {
   "cell_type": "markdown",
   "id": "a68ed5c2",
   "metadata": {},
   "source": [
    "Adding new column to the dataframe-"
   ]
  },
  {
   "cell_type": "code",
   "execution_count": 35,
   "id": "0a45d2df",
   "metadata": {},
   "outputs": [
    {
     "name": "stdout",
     "output_type": "stream",
     "text": [
      "   temperature  activity  adjusted\n",
      "0           10         4         6\n",
      "1           20         7         9\n",
      "2           30         9        11\n",
      "3           40         8        10\n",
      "4           35         1         3\n"
     ]
    }
   ],
   "source": [
    "my_dataframe[\"adjusted\"] = my_dataframe[\"activity\"] + 2\n",
    "print(my_dataframe)"
   ]
  },
  {
   "cell_type": "markdown",
   "id": "fc0ad25c",
   "metadata": {},
   "source": [
    "Specifying a subset of dataframe"
   ]
  },
  {
   "cell_type": "code",
   "execution_count": 36,
   "id": "0e92506a",
   "metadata": {},
   "outputs": [
    {
     "name": "stdout",
     "output_type": "stream",
     "text": [
      "Rows #1 #2 and #3:\n",
      "   temperature  activity  adjusted\n",
      "0           10         4         6\n",
      "1           20         7         9\n",
      "2           30         9        11 \n",
      "\n"
     ]
    }
   ],
   "source": [
    "print(\"Rows #1 #2 and #3:\")\n",
    "print(my_dataframe.head(3), '\\n')"
   ]
  },
  {
   "cell_type": "code",
   "execution_count": 37,
   "id": "0c8610dc",
   "metadata": {},
   "outputs": [
    {
     "name": "stdout",
     "output_type": "stream",
     "text": [
      "Row #2:\n",
      "   temperature  activity  adjusted\n",
      "2           30         9        11 \n",
      "\n"
     ]
    }
   ],
   "source": [
    "print(\"Row #2:\")\n",
    "print(my_dataframe.iloc[[2]], '\\n')"
   ]
  },
  {
   "cell_type": "code",
   "execution_count": 38,
   "id": "949eaae5",
   "metadata": {},
   "outputs": [
    {
     "name": "stdout",
     "output_type": "stream",
     "text": [
      "Rows #1, #2, and #3:\n",
      "   temperature  activity  adjusted\n",
      "1           20         7         9\n",
      "2           30         9        11\n",
      "3           40         8        10 \n",
      "\n"
     ]
    }
   ],
   "source": [
    "print(\"Rows #1, #2, and #3:\")\n",
    "print(my_dataframe[1:4], '\\n')"
   ]
  },
  {
   "cell_type": "code",
   "execution_count": 39,
   "id": "9864bd52",
   "metadata": {},
   "outputs": [
    {
     "name": "stdout",
     "output_type": "stream",
     "text": [
      "Column 'temperature':\n",
      "0    10\n",
      "1    20\n",
      "2    30\n",
      "3    40\n",
      "4    35\n",
      "Name: temperature, dtype: int32\n"
     ]
    }
   ],
   "source": [
    "print(\"Column 'temperature':\")\n",
    "print(my_dataframe['temperature'])"
   ]
  },
  {
   "cell_type": "code",
   "execution_count": 40,
   "id": "83fcbeb8",
   "metadata": {},
   "outputs": [
    {
     "name": "stdout",
     "output_type": "stream",
     "text": [
      "   Eleanor  Chidi  Tahani  Jason\n",
      "0       70     49      76     46\n",
      "1       43     31      87     63\n",
      "2       16     10      45     87\n",
      "\n",
      "Second row of the Eleanor column: 43\n",
      "\n",
      "   Eleanor  Chidi  Tahani  Jason  Janet\n",
      "0       70     49      76     46    122\n",
      "1       43     31      87     63    150\n",
      "2       16     10      45     87    132\n"
     ]
    }
   ],
   "source": [
    "# Create a Python list that holds the names of the four columns.\n",
    "my_column_names = ['Eleanor', 'Chidi', 'Tahani', 'Jason']\n",
    "\n",
    "# Create a 3x4 numpy array, each cell populated with a random integer.\n",
    "my_data = np.random.randint(low=0, high=101, size=(3, 4))\n",
    "\n",
    "# Create a DataFrame.\n",
    "df = pd.DataFrame(data=my_data, columns=my_column_names)\n",
    "\n",
    "# Print the entire DataFrame\n",
    "print(df)\n",
    "\n",
    "# Print the value in row #1 of the Eleanor column.\n",
    "print(\"\\nSecond row of the Eleanor column: %d\\n\" % df['Eleanor'][1])\n",
    "\n",
    "# Create a column named Janet whose contents are the sum\n",
    "# of two other columns.\n",
    "df['Janet'] = df['Tahani'] + df['Jason']\n",
    "\n",
    "# Print the enhanced DataFrame\n",
    "print(df)"
   ]
  },
  {
   "cell_type": "code",
   "execution_count": 41,
   "id": "2a39acd0",
   "metadata": {},
   "outputs": [
    {
     "name": "stdout",
     "output_type": "stream",
     "text": [
      "Experiment with a reference:\n",
      "  Starting value of df: 63\n",
      "  Starting value of reference_to_df: 63\n",
      "\n",
      "  Updated df: 68\n",
      "  Updated reference_to_df: 68\n",
      "\n",
      "\n",
      "Experiment with a true copy:\n",
      "  Starting value of my_dataframe: 7\n",
      "  Starting value of copy_of_my_dataframe: 7\n",
      "\n",
      "  Updated my_dataframe: 10\n",
      "  copy_of_my_dataframe does not get updated: 7\n"
     ]
    }
   ],
   "source": [
    "# Create a reference by assigning my_dataframe to a new variable.\n",
    "print(\"Experiment with a reference:\")\n",
    "reference_to_df = df\n",
    "\n",
    "# Print the starting value of a particular cell.\n",
    "print(\"  Starting value of df: %d\" % df['Jason'][1])\n",
    "print(\"  Starting value of reference_to_df: %d\\n\" % reference_to_df['Jason'][1])\n",
    "\n",
    "# Modify a cell in df.\n",
    "df.at[1, 'Jason'] = df['Jason'][1] + 5\n",
    "print(\"  Updated df: %d\" % df['Jason'][1])\n",
    "print(\"  Updated reference_to_df: %d\\n\\n\" % reference_to_df['Jason'][1])\n",
    "\n",
    "# Create a true copy of my_dataframe\n",
    "print(\"Experiment with a true copy:\")\n",
    "copy_of_my_dataframe = my_dataframe.copy()\n",
    "\n",
    "# Print the starting value of a particular cell.\n",
    "print(\"  Starting value of my_dataframe: %d\" % my_dataframe['activity'][1])\n",
    "print(\"  Starting value of copy_of_my_dataframe: %d\\n\" % copy_of_my_dataframe['activity'][1])\n",
    "\n",
    "# Modify a cell in df.\n",
    "my_dataframe.at[1, 'activity'] = my_dataframe['activity'][1] + 3\n",
    "print(\"  Updated my_dataframe: %d\" % my_dataframe['activity'][1])\n",
    "print(\"  copy_of_my_dataframe does not get updated: %d\" % copy_of_my_dataframe['activity'][1])"
   ]
  },
  {
   "cell_type": "code",
   "execution_count": null,
   "id": "fe921baa",
   "metadata": {},
   "outputs": [],
   "source": []
  }
 ],
 "metadata": {
  "kernelspec": {
   "display_name": "Python 3 (ipykernel)",
   "language": "python",
   "name": "python3"
  },
  "language_info": {
   "codemirror_mode": {
    "name": "ipython",
    "version": 3
   },
   "file_extension": ".py",
   "mimetype": "text/x-python",
   "name": "python",
   "nbconvert_exporter": "python",
   "pygments_lexer": "ipython3",
   "version": "3.11.4"
  }
 },
 "nbformat": 4,
 "nbformat_minor": 5
}
